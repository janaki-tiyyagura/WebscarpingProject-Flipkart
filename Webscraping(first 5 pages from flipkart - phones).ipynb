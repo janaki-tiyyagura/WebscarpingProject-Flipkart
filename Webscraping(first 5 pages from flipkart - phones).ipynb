{
 "cells": [
  {
   "cell_type": "code",
   "execution_count": 1,
   "id": "4dfee1f9",
   "metadata": {},
   "outputs": [],
   "source": [
    "import requests\n",
    "from bs4 import BeautifulSoup\n",
    "import pandas as pd"
   ]
  },
  {
   "cell_type": "code",
   "execution_count": 2,
   "id": "228dd957",
   "metadata": {},
   "outputs": [],
   "source": [
    "url='https://www.flipkart.com/search?q=mobiles&otracker=search&otracker1=search&marketplace=FLIPKART&as-show=off&as=off'"
   ]
  },
  {
   "cell_type": "code",
   "execution_count": 3,
   "id": "ec03ef9a",
   "metadata": {},
   "outputs": [],
   "source": [
    "phone_name=[]            #used to store name of the phone\n",
    "phone_price=[]           #used to store price of the phone\n",
    "phone_rating=[]          #used to store rating of the phone\n",
    "phone_memory=[]          #used to store memory of the phone\n",
    "phone_display=[]         #used to store display of the phone\n",
    "phone_camera=[]          #used to store camera type of the phone\n",
    "phone_battery=[]         #used to store battery type of the phone\n",
    "phone_processor=[]       #used to store processor type of the phone\n",
    "phone_specification=[]   #used to store all specifications of the phone"
   ]
  },
  {
   "cell_type": "code",
   "execution_count": 4,
   "id": "0135774e",
   "metadata": {},
   "outputs": [],
   "source": [
    "\n",
    "\n",
    "def scrap(url):\n",
    "    page=requests.get(url)\n",
    "    soup=BeautifulSoup(page.content,'html.parser')\n",
    "    phone_summary=soup.find_all('div',class_='_3pLy-c row')\n",
    "    for phone in phone_summary:\n",
    "        name=phone.find('div',class_='_4rR01T').text\n",
    "        price=phone.find('div',class_='_30jeq3 _1_WHN1').text\n",
    "        rating=phone.find('div',class_='_3LWZlK').text\n",
    "        specifications = phone.find('div',class_=\"fMghEO\")\n",
    "        for each in specifications:\n",
    "            specification=each.find_all('li',class_='rgWa7D')\n",
    "            memory = specification[0].text\n",
    "            display = specification[1].text\n",
    "            camera = specification[2].text\n",
    "            battery=specification[3].text\n",
    "            processor=specification[4].text\n",
    "        phone_name.append(name)\n",
    "        phone_price.append(price)\n",
    "        phone_rating.append(rating)\n",
    "        phone_memory.append(memory)\n",
    "        phone_display.append(display)\n",
    "        phone_camera.append(camera)\n",
    "        phone_battery.append(battery)\n",
    "        phone_processor.append(processor)\n",
    "        phone_specification.append(specifications.text)"
   ]
  },
  {
   "cell_type": "code",
   "execution_count": 5,
   "id": "33df2585",
   "metadata": {},
   "outputs": [],
   "source": [
    "for i in range(5):\n",
    "    if i==0:\n",
    "        pageurl=url\n",
    "        scrap(pageurl)\n",
    "    else:\n",
    "        pageurl=url+'&page='+str(i+1)\n",
    "        scrap(pageurl)"
   ]
  },
  {
   "cell_type": "code",
   "execution_count": 6,
   "id": "4fedd798",
   "metadata": {},
   "outputs": [],
   "source": [
    "import pandas as pd"
   ]
  },
  {
   "cell_type": "code",
   "execution_count": 7,
   "id": "b1139895",
   "metadata": {},
   "outputs": [],
   "source": [
    "#creating data frame from the lists\n",
    "phones_data=pd.DataFrame({'Name':phone_name,'memory':phone_memory,'display':phone_display,'camera':phone_camera,'battery':phone_battery,'processor':phone_processor,'specifications':phone_specification,'ratings':phone_rating,'price':phone_price})"
   ]
  },
  {
   "cell_type": "code",
   "execution_count": 8,
   "id": "92bec64d",
   "metadata": {},
   "outputs": [
    {
     "name": "stdout",
     "output_type": "stream",
     "text": [
      "<class 'pandas.core.frame.DataFrame'>\n",
      "RangeIndex: 120 entries, 0 to 119\n",
      "Data columns (total 9 columns):\n",
      " #   Column          Non-Null Count  Dtype \n",
      "---  ------          --------------  ----- \n",
      " 0   Name            120 non-null    object\n",
      " 1   memory          120 non-null    object\n",
      " 2   display         120 non-null    object\n",
      " 3   camera          120 non-null    object\n",
      " 4   battery         120 non-null    object\n",
      " 5   processor       120 non-null    object\n",
      " 6   specifications  120 non-null    object\n",
      " 7   ratings         120 non-null    object\n",
      " 8   price           120 non-null    object\n",
      "dtypes: object(9)\n",
      "memory usage: 8.6+ KB\n"
     ]
    }
   ],
   "source": [
    "phones_data.info()"
   ]
  },
  {
   "cell_type": "code",
   "execution_count": 9,
   "id": "a088d282",
   "metadata": {},
   "outputs": [
    {
     "data": {
      "text/html": [
       "<div>\n",
       "<style scoped>\n",
       "    .dataframe tbody tr th:only-of-type {\n",
       "        vertical-align: middle;\n",
       "    }\n",
       "\n",
       "    .dataframe tbody tr th {\n",
       "        vertical-align: top;\n",
       "    }\n",
       "\n",
       "    .dataframe thead th {\n",
       "        text-align: right;\n",
       "    }\n",
       "</style>\n",
       "<table border=\"1\" class=\"dataframe\">\n",
       "  <thead>\n",
       "    <tr style=\"text-align: right;\">\n",
       "      <th></th>\n",
       "      <th>Name</th>\n",
       "      <th>memory</th>\n",
       "      <th>display</th>\n",
       "      <th>camera</th>\n",
       "      <th>battery</th>\n",
       "      <th>processor</th>\n",
       "      <th>specifications</th>\n",
       "      <th>ratings</th>\n",
       "      <th>price</th>\n",
       "    </tr>\n",
       "  </thead>\n",
       "  <tbody>\n",
       "    <tr>\n",
       "      <th>0</th>\n",
       "      <td>POCO C31 (Shadow Gray, 64 GB)</td>\n",
       "      <td>4 GB RAM | 64 GB ROM | Expandable Upto 512 GB</td>\n",
       "      <td>16.59 cm (6.53 inch) HD+ Display</td>\n",
       "      <td>13MP + 2MP + 2MP | 5MP Front Camera</td>\n",
       "      <td>5000 mAh Lithium-ion Polymer Battery</td>\n",
       "      <td>MediaTek Helio G35 Processor</td>\n",
       "      <td>4 GB RAM | 64 GB ROM | Expandable Upto 512 GB1...</td>\n",
       "      <td>4.4</td>\n",
       "      <td>₹9,499</td>\n",
       "    </tr>\n",
       "    <tr>\n",
       "      <th>1</th>\n",
       "      <td>POCO C31 (Royal Blue, 32 GB)</td>\n",
       "      <td>3 GB RAM | 32 GB ROM | Expandable Upto 512 GB</td>\n",
       "      <td>16.59 cm (6.53 inch) HD+ Display</td>\n",
       "      <td>13MP + 2MP + 2MP | 5MP Front Camera</td>\n",
       "      <td>5000 mAh Lithium-ion Polymer Battery</td>\n",
       "      <td>MediaTek Helio G35 Processor</td>\n",
       "      <td>3 GB RAM | 32 GB ROM | Expandable Upto 512 GB1...</td>\n",
       "      <td>4.4</td>\n",
       "      <td>₹7,999</td>\n",
       "    </tr>\n",
       "    <tr>\n",
       "      <th>2</th>\n",
       "      <td>POCO C31 (Royal Blue, 64 GB)</td>\n",
       "      <td>4 GB RAM | 64 GB ROM | Expandable Upto 512 GB</td>\n",
       "      <td>16.59 cm (6.53 inch) HD+ Display</td>\n",
       "      <td>13MP + 2MP + 2MP | 5MP Front Camera</td>\n",
       "      <td>5000 mAh Lithium-ion Polymer Battery</td>\n",
       "      <td>MediaTek Helio G35 Processor</td>\n",
       "      <td>4 GB RAM | 64 GB ROM | Expandable Upto 512 GB1...</td>\n",
       "      <td>4.4</td>\n",
       "      <td>₹9,499</td>\n",
       "    </tr>\n",
       "    <tr>\n",
       "      <th>3</th>\n",
       "      <td>POCO M3 Pro 5G (Cool Blue, 128 GB)</td>\n",
       "      <td>6 GB RAM | 128 GB ROM | Expandable Upto 1 TB</td>\n",
       "      <td>16.51 cm (6.5 inch) Full HD+ Display</td>\n",
       "      <td>48MP + 2MP + 2MP | 8MP Front Camera</td>\n",
       "      <td>5000 mAh Lithium-ion Polymer Battery</td>\n",
       "      <td>MediaTek Dimensity 700 Processor</td>\n",
       "      <td>6 GB RAM | 128 GB ROM | Expandable Upto 1 TB16...</td>\n",
       "      <td>4.2</td>\n",
       "      <td>₹13,999</td>\n",
       "    </tr>\n",
       "    <tr>\n",
       "      <th>4</th>\n",
       "      <td>SAMSUNG Galaxy F12 (Sky Blue, 64 GB)</td>\n",
       "      <td>4 GB RAM | 64 GB ROM | Expandable Upto 512 GB</td>\n",
       "      <td>16.55 cm (6.515 inch) HD+ Display</td>\n",
       "      <td>48MP + 5MP + 2MP + 2MP | 8MP Front Camera</td>\n",
       "      <td>6000 mAh Lithium-ion Battery</td>\n",
       "      <td>Exynos 850 Processor</td>\n",
       "      <td>4 GB RAM | 64 GB ROM | Expandable Upto 512 GB1...</td>\n",
       "      <td>4.3</td>\n",
       "      <td>₹11,499</td>\n",
       "    </tr>\n",
       "  </tbody>\n",
       "</table>\n",
       "</div>"
      ],
      "text/plain": [
       "                                   Name  \\\n",
       "0         POCO C31 (Shadow Gray, 64 GB)   \n",
       "1          POCO C31 (Royal Blue, 32 GB)   \n",
       "2          POCO C31 (Royal Blue, 64 GB)   \n",
       "3    POCO M3 Pro 5G (Cool Blue, 128 GB)   \n",
       "4  SAMSUNG Galaxy F12 (Sky Blue, 64 GB)   \n",
       "\n",
       "                                          memory  \\\n",
       "0  4 GB RAM | 64 GB ROM | Expandable Upto 512 GB   \n",
       "1  3 GB RAM | 32 GB ROM | Expandable Upto 512 GB   \n",
       "2  4 GB RAM | 64 GB ROM | Expandable Upto 512 GB   \n",
       "3   6 GB RAM | 128 GB ROM | Expandable Upto 1 TB   \n",
       "4  4 GB RAM | 64 GB ROM | Expandable Upto 512 GB   \n",
       "\n",
       "                                display  \\\n",
       "0      16.59 cm (6.53 inch) HD+ Display   \n",
       "1      16.59 cm (6.53 inch) HD+ Display   \n",
       "2      16.59 cm (6.53 inch) HD+ Display   \n",
       "3  16.51 cm (6.5 inch) Full HD+ Display   \n",
       "4     16.55 cm (6.515 inch) HD+ Display   \n",
       "\n",
       "                                      camera  \\\n",
       "0        13MP + 2MP + 2MP | 5MP Front Camera   \n",
       "1        13MP + 2MP + 2MP | 5MP Front Camera   \n",
       "2        13MP + 2MP + 2MP | 5MP Front Camera   \n",
       "3        48MP + 2MP + 2MP | 8MP Front Camera   \n",
       "4  48MP + 5MP + 2MP + 2MP | 8MP Front Camera   \n",
       "\n",
       "                                battery                         processor  \\\n",
       "0  5000 mAh Lithium-ion Polymer Battery      MediaTek Helio G35 Processor   \n",
       "1  5000 mAh Lithium-ion Polymer Battery      MediaTek Helio G35 Processor   \n",
       "2  5000 mAh Lithium-ion Polymer Battery      MediaTek Helio G35 Processor   \n",
       "3  5000 mAh Lithium-ion Polymer Battery  MediaTek Dimensity 700 Processor   \n",
       "4          6000 mAh Lithium-ion Battery              Exynos 850 Processor   \n",
       "\n",
       "                                      specifications ratings    price  \n",
       "0  4 GB RAM | 64 GB ROM | Expandable Upto 512 GB1...     4.4   ₹9,499  \n",
       "1  3 GB RAM | 32 GB ROM | Expandable Upto 512 GB1...     4.4   ₹7,999  \n",
       "2  4 GB RAM | 64 GB ROM | Expandable Upto 512 GB1...     4.4   ₹9,499  \n",
       "3  6 GB RAM | 128 GB ROM | Expandable Upto 1 TB16...     4.2  ₹13,999  \n",
       "4  4 GB RAM | 64 GB ROM | Expandable Upto 512 GB1...     4.3  ₹11,499  "
      ]
     },
     "execution_count": 9,
     "metadata": {},
     "output_type": "execute_result"
    }
   ],
   "source": [
    "phones_data.head()"
   ]
  },
  {
   "cell_type": "code",
   "execution_count": 10,
   "id": "9fadebfc",
   "metadata": {},
   "outputs": [],
   "source": [
    "phones_data.to_csv('fivepagesdataof phones.csv')"
   ]
  },
  {
   "cell_type": "code",
   "execution_count": null,
   "id": "688b4c79",
   "metadata": {},
   "outputs": [],
   "source": []
  }
 ],
 "metadata": {
  "kernelspec": {
   "display_name": "Python 3 (ipykernel)",
   "language": "python",
   "name": "python3"
  },
  "language_info": {
   "codemirror_mode": {
    "name": "ipython",
    "version": 3
   },
   "file_extension": ".py",
   "mimetype": "text/x-python",
   "name": "python",
   "nbconvert_exporter": "python",
   "pygments_lexer": "ipython3",
   "version": "3.9.7"
  }
 },
 "nbformat": 4,
 "nbformat_minor": 5
}
